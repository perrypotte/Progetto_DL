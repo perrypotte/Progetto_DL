{
 "cells": [
  {
   "cell_type": "code",
   "execution_count": null,
   "id": "2b9514a8",
   "metadata": {},
   "outputs": [],
   "source": [
    "!yolo settings datasets_dir=./datasets"
   ]
  },
  {
   "cell_type": "code",
   "execution_count": null,
   "id": "1d415624",
   "metadata": {
    "execution": {
     "iopub.execute_input": "2025-02-25T14:55:24.381806Z",
     "iopub.status.busy": "2025-02-25T14:55:24.381557Z",
     "iopub.status.idle": "2025-02-25T17:56:55.761836Z",
     "shell.execute_reply": "2025-02-25T17:56:55.760879Z"
    },
    "papermill": {
     "duration": 10891.38561,
     "end_time": "2025-02-25T17:56:55.764087",
     "exception": false,
     "start_time": "2025-02-25T14:55:24.378477",
     "status": "completed"
    },
    "tags": []
   },
   "outputs": [],
   "source": [
    "from ultralytics import YOLO\n",
    "# Load YOLOv11n model from scratch\n",
    "model = YOLO(\"yolov10n.yaml\")\n",
    "# Train the model\n",
    "model.train(data=\"./datasets/mixed50/data.yaml\", epochs=30, imgsz=640,project=\"./output/mixed50\")"
   ]
  }
 ],
 "metadata": {
  "kaggle": {
   "accelerator": "nvidiaTeslaT4",
   "dataSources": [
    {
     "datasetId": 6740246,
     "sourceId": 10852212,
     "sourceType": "datasetVersion"
    }
   ],
   "dockerImageVersionId": 30919,
   "isGpuEnabled": true,
   "isInternetEnabled": true,
   "language": "python",
   "sourceType": "notebook"
  },
  "kernelspec": {
   "display_name": "Python 3",
   "language": "python",
   "name": "python3"
  },
  "language_info": {
   "codemirror_mode": {
    "name": "ipython",
    "version": 3
   },
   "file_extension": ".py",
   "mimetype": "text/x-python",
   "name": "python",
   "nbconvert_exporter": "python",
   "pygments_lexer": "ipython3",
   "version": "3.12.2"
  },
  "papermill": {
   "default_parameters": {},
   "duration": 10928.499727,
   "end_time": "2025-02-25T17:57:03.949513",
   "environment_variables": {},
   "exception": null,
   "input_path": "__notebook__.ipynb",
   "output_path": "__notebook__.ipynb",
   "parameters": {},
   "start_time": "2025-02-25T14:54:55.449786",
   "version": "2.6.0"
  }
 },
 "nbformat": 4,
 "nbformat_minor": 5
}
