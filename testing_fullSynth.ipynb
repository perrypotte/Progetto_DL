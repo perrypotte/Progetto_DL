{
 "cells": [
  {
   "cell_type": "code",
   "execution_count": null,
   "id": "599fc0a8",
   "metadata": {},
   "outputs": [],
   "source": [
    "!yolo settings datasets_dir=./datasets"
   ]
  },
  {
   "cell_type": "code",
   "execution_count": null,
   "id": "5d0cf0f1",
   "metadata": {
    "execution": {
     "iopub.execute_input": "2025-02-28T03:18:02.678132Z",
     "iopub.status.busy": "2025-02-28T03:18:02.677886Z",
     "iopub.status.idle": "2025-02-28T03:19:08.638620Z",
     "shell.execute_reply": "2025-02-28T03:19:08.637809Z"
    },
    "papermill": {
     "duration": 65.964588,
     "end_time": "2025-02-28T03:19:08.639851",
     "exception": false,
     "start_time": "2025-02-28T03:18:02.675263",
     "status": "completed"
    },
    "tags": []
   },
   "outputs": [],
   "source": [
    "from ultralytics import YOLO\n",
    "import os\n",
    "from dotenv import load_dotenv\n",
    "\n",
    "load_dotenv(override=True) \n",
    "# Load a model\n",
    "#model = YOLO(\"yolo11n.pt\")  # load an official model\n",
    "model = YOLO(os.getenv(\"PATH_YOLO_SYNTH\"))  # load a custom model\n",
    "\n",
    "# Customize validation settings\n",
    "validation_results = model.val(data=\"./datasets/fullSynth/data.yaml\", imgsz=640, batch=16, device=\"0\",split='test')"
   ]
  }
 ],
 "metadata": {
  "kaggle": {
   "accelerator": "nvidiaTeslaT4",
   "dataSources": [
    {
     "datasetId": 6756803,
     "sourceId": 10874747,
     "sourceType": "datasetVersion"
    },
    {
     "sourceId": 224881542,
     "sourceType": "kernelVersion"
    }
   ],
   "dockerImageVersionId": 30919,
   "isGpuEnabled": true,
   "isInternetEnabled": true,
   "language": "python",
   "sourceType": "notebook"
  },
  "kernelspec": {
   "display_name": "Python 3",
   "language": "python",
   "name": "python3"
  },
  "language_info": {
   "codemirror_mode": {
    "name": "ipython",
    "version": 3
   },
   "file_extension": ".py",
   "mimetype": "text/x-python",
   "name": "python",
   "nbconvert_exporter": "python",
   "pygments_lexer": "ipython3",
   "version": "3.12.2"
  },
  "papermill": {
   "default_parameters": {},
   "duration": 75.641954,
   "end_time": "2025-02-28T03:19:10.379545",
   "environment_variables": {},
   "exception": null,
   "input_path": "__notebook__.ipynb",
   "output_path": "__notebook__.ipynb",
   "parameters": {},
   "start_time": "2025-02-28T03:17:54.737591",
   "version": "2.6.0"
  }
 },
 "nbformat": 4,
 "nbformat_minor": 5
}
